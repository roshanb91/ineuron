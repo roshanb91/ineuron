{
 "cells": [
  {
   "cell_type": "markdown",
   "metadata": {},
   "source": [
    "#1.\tWrite a Python program to print \"Hello Python\"?"
   ]
  },
  {
   "cell_type": "code",
   "execution_count": 2,
   "metadata": {},
   "outputs": [
    {
     "name": "stdout",
     "output_type": "stream",
     "text": [
      "Hello Python\n"
     ]
    }
   ],
   "source": [
    "i = \"Hello Python\"\n",
    "print (i)"
   ]
  },
  {
   "cell_type": "markdown",
   "metadata": {},
   "source": [
    "2. Write a Python program to do arithmetical operations addition and division.?"
   ]
  },
  {
   "cell_type": "code",
   "execution_count": 1,
   "metadata": {},
   "outputs": [
    {
     "name": "stdout",
     "output_type": "stream",
     "text": [
      "Please enter value for a : 20\n",
      "please enter value for b:  10\n",
      "Sum of a & b : 30.0\n",
      "Division of a & b : 2.0\n"
     ]
    }
   ],
   "source": [
    "a = input(\"Please enter value for a : \")\n",
    "b = input(\"please enter value for b:  \")\n",
    "\n",
    "#sum\n",
    "C = float(a) + float (b)\n",
    "print (\"Sum of a & b :\" , C)\n",
    "\n",
    "D = float(a) / float (b)\n",
    "print (\"Division of a & b :\" , D)"
   ]
  },
  {
   "cell_type": "markdown",
   "metadata": {},
   "source": [
    "3.Write a Python program to find the area of a triangle?"
   ]
  },
  {
   "cell_type": "code",
   "execution_count": 3,
   "metadata": {},
   "outputs": [
    {
     "name": "stdout",
     "output_type": "stream",
     "text": [
      "Enter the Perpendicular length: 30\n",
      "Enter the base length : 20\n",
      "Enter the height length : 20\n",
      "The area of Triangle is:  198.4313483298443\n"
     ]
    }
   ],
   "source": [
    "p = float(input(\"Enter the Perpendicular length: \"))\n",
    "b = float(input(\"Enter the base length : \"))\n",
    "h = float(input(\"Enter the height length : \"))\n",
    "\n",
    "#Semi Perimeter\n",
    "s = (p + b + h) / 2  \n",
    "\n",
    "#Area\n",
    "area = (s*(s-p)*(s-b)*(s-h)) ** 0.5  \n",
    "\n",
    "print (\"The area of Triangle is: \", area)"
   ]
  },
  {
   "cell_type": "markdown",
   "metadata": {},
   "source": [
    "4.Write a Python program to swap two variables?"
   ]
  },
  {
   "cell_type": "code",
   "execution_count": 4,
   "metadata": {},
   "outputs": [
    {
     "name": "stdout",
     "output_type": "stream",
     "text": [
      "Value of x: 10\n",
      "Value of y: 20\n"
     ]
    }
   ],
   "source": [
    "x = 20\n",
    "y = 10\n",
    "  \n",
    "temp = x \n",
    "x = y \n",
    "y = temp \n",
    "  \n",
    "print(\"Value of x:\", x) \n",
    "print(\"Value of y:\", y) "
   ]
  },
  {
   "cell_type": "markdown",
   "metadata": {},
   "source": [
    "5.Write a Python program to generate a random number?"
   ]
  },
  {
   "cell_type": "code",
   "execution_count": 6,
   "metadata": {},
   "outputs": [
    {
     "name": "stdout",
     "output_type": "stream",
     "text": [
      "6\n",
      "h\n"
     ]
    }
   ],
   "source": [
    "import random\n",
    " \n",
    "# prints a random value\n",
    "list1 = [1, 2, 3, 4, 5, 6]\n",
    "print(random.choice(list1))\n",
    " \n",
    "# prints a random item \n",
    "string = \"choose\"\n",
    "print(random.choice(string))"
   ]
  }
 ],
 "metadata": {
  "kernelspec": {
   "display_name": "Python 3",
   "language": "python",
   "name": "python3"
  },
  "language_info": {
   "codemirror_mode": {
    "name": "ipython",
    "version": 3
   },
   "file_extension": ".py",
   "mimetype": "text/x-python",
   "name": "python",
   "nbconvert_exporter": "python",
   "pygments_lexer": "ipython3",
   "version": "3.8.5"
  }
 },
 "nbformat": 4,
 "nbformat_minor": 4
}

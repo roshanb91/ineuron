{
 "cells": [
  {
   "cell_type": "markdown",
   "metadata": {},
   "source": [
    "1. Write a Python program to convert kilometers to miles?"
   ]
  },
  {
   "cell_type": "code",
   "execution_count": 4,
   "metadata": {},
   "outputs": [
    {
     "name": "stdout",
     "output_type": "stream",
     "text": [
      "Please enter a value = 20.3\n",
      "Entered Value 20.3 in miles =  12.586\n"
     ]
    }
   ],
   "source": [
    "i = float(input(\"Please enter a value = \"))\n",
    "j = i*(0.62)\n",
    "print ('Entered Value', i , 'in miles = ',j)"
   ]
  },
  {
   "cell_type": "markdown",
   "metadata": {},
   "source": [
    "2. Write a Python program to convert Celsius to Fahrenheit?"
   ]
  },
  {
   "cell_type": "code",
   "execution_count": 6,
   "metadata": {},
   "outputs": [
    {
     "name": "stdout",
     "output_type": "stream",
     "text": [
      "Please enter a value  in celsisu = 12.3\n",
      "Entered Value 12.3 celsisus in fahrenheit =  54.14\n"
     ]
    }
   ],
   "source": [
    "celsisus = float(input(\"Please enter a value  in celsisu = \"))\n",
    "fahrenheit = (celsisus * 9/5) + 32\n",
    "\n",
    "print ('Entered Value', celsisus , 'celsisus in fahrenheit = ', fahrenheit)"
   ]
  },
  {
   "cell_type": "markdown",
   "metadata": {},
   "source": [
    "3. Write a Python program to display calendar?"
   ]
  },
  {
   "cell_type": "code",
   "execution_count": 11,
   "metadata": {},
   "outputs": [
    {
     "name": "stdout",
     "output_type": "stream",
     "text": [
      "Enter year: 2021\n",
      "Enter month: 3\n",
      "     March 2021\n",
      "Mo Tu We Th Fr Sa Su\n",
      " 1  2  3  4  5  6  7\n",
      " 8  9 10 11 12 13 14\n",
      "15 16 17 18 19 20 21\n",
      "22 23 24 25 26 27 28\n",
      "29 30 31\n",
      "\n"
     ]
    }
   ],
   "source": [
    "import calendar\n",
    "yy = int(input(\"Enter year: \"))  \n",
    "mm = int(input(\"Enter month: \"))\n",
    "print (calendar.month(yy,mm))"
   ]
  },
  {
   "cell_type": "code",
   "execution_count": 12,
   "metadata": {},
   "outputs": [
    {
     "name": "stdout",
     "output_type": "stream",
     "text": [
      "Object `equation` not found.\n"
     ]
    }
   ],
   "source": [
    "4. Write a Python program to solve quadratic equation?"
   ]
  },
  {
   "cell_type": "markdown",
   "metadata": {},
   "source": [
    "4. Write a Python program to solve quadratic equation"
   ]
  },
  {
   "cell_type": "code",
   "execution_count": 32,
   "metadata": {},
   "outputs": [
    {
     "name": "stdout",
     "output_type": "stream",
     "text": [
      "Enter a Value = 1\n",
      "Enter b Value = 4\n",
      "Enter c Value = 6\n",
      "The solution are (-2-1.4142135623730951j) and (-2+1.4142135623730951j)\n"
     ]
    }
   ],
   "source": [
    "import cmath\n",
    "\n",
    "a = int(input(\"Enter a Value = \"))\n",
    "b = int(input(\"Enter b Value = \"))\n",
    "c = int(input(\"Enter c Value = \"))\n",
    "\n",
    "#formula = (-b ± (b ** 2 - 4 * a * c) ** 0.5) / 2 * a\n",
    "#so, calculate first = (b ** 2 - 4 * a * c)\n",
    "\n",
    "d = (b**2) - (4*a*c)\n",
    "\n",
    "answer1 = (-b-cmath.sqrt(d))/(2*a)\n",
    "answer2 = (-b+cmath.sqrt(d))/(2*a)\n",
    "\n",
    "print('The solution are {0} and {1}'.format(answer1,answer2))"
   ]
  },
  {
   "cell_type": "markdown",
   "metadata": {},
   "source": [
    "5. Write a Python program to swap two variables without temp variable?"
   ]
  },
  {
   "cell_type": "code",
   "execution_count": 35,
   "metadata": {},
   "outputs": [
    {
     "name": "stdout",
     "output_type": "stream",
     "text": [
      "Enter value of First variable= 5\n",
      "Enter value of Second variable= 6\n",
      "a is: 6  b is: 5\n"
     ]
    }
   ],
   "source": [
    "a = int(input(\"Enter value of First variable= \"))\n",
    "b = int(input(\"Enter value of Second variable= \"))\n",
    "\n",
    "a = a+b\n",
    "b = a-b\n",
    "a = a-b\n",
    "print(\"a is:\",a,\" b is:\",b)"
   ]
  },
  {
   "cell_type": "code",
   "execution_count": null,
   "metadata": {},
   "outputs": [],
   "source": []
  }
 ],
 "metadata": {
  "kernelspec": {
   "display_name": "Python 3",
   "language": "python",
   "name": "python3"
  },
  "language_info": {
   "codemirror_mode": {
    "name": "ipython",
    "version": 3
   },
   "file_extension": ".py",
   "mimetype": "text/x-python",
   "name": "python",
   "nbconvert_exporter": "python",
   "pygments_lexer": "ipython3",
   "version": "3.8.5"
  }
 },
 "nbformat": 4,
 "nbformat_minor": 4
}

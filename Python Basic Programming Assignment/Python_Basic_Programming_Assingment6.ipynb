{
 "cells": [
  {
   "cell_type": "markdown",
   "metadata": {},
   "source": [
    "1.Write a Python Program to Display Fibonacci Sequence Using Recursion?"
   ]
  },
  {
   "cell_type": "code",
   "execution_count": 4,
   "metadata": {},
   "outputs": [
    {
     "name": "stdout",
     "output_type": "stream",
     "text": [
      "Enter a positive number : 5\n",
      "Fibonacci sequence : \n",
      "0\n",
      "1\n",
      "1\n",
      "2\n",
      "3\n"
     ]
    }
   ],
   "source": [
    "def fibo(n):\n",
    "    if n <= 1:\n",
    "        return n\n",
    "    else:\n",
    "        return ((fibo(n-1))+ fibo(n-2))\n",
    "\n",
    "nthnum= int (input(\"Enter a positive number : \"))\n",
    "\n",
    "if nthnum <= 0:\n",
    "    print(\"Please enter a positive number\")\n",
    "else:\n",
    "    print (\"Fibonacci sequence : \")\n",
    "    for i in range (nthnum):\n",
    "        print (fibo(i))"
   ]
  },
  {
   "cell_type": "markdown",
   "metadata": {},
   "source": [
    "2. Write a Python Program to Find Factorial of Number Using Recursion?"
   ]
  },
  {
   "cell_type": "code",
   "execution_count": 8,
   "metadata": {},
   "outputs": [
    {
     "name": "stdout",
     "output_type": "stream",
     "text": [
      "Enter a number : 4\n",
      "The Factorial of  4 is  24\n"
     ]
    }
   ],
   "source": [
    "def facto(n):\n",
    "    if n == 1:\n",
    "        return n\n",
    "    else:\n",
    "        return n*facto(n-1)\n",
    "\n",
    "num = int (input(\"Enter a number : \"))\n",
    "\n",
    "if num < 0:\n",
    "    print(\"Please enter a positive number\")\n",
    "elif num == 0:\n",
    "    print(\"Factorial of 0 is 1\")\n",
    "else:\n",
    "    print (\"The Factorial of \", num ,\"is \", facto(num))"
   ]
  },
  {
   "cell_type": "markdown",
   "metadata": {},
   "source": [
    "3. Write a Python Program to calculate your Body Mass Index?"
   ]
  },
  {
   "cell_type": "code",
   "execution_count": 11,
   "metadata": {},
   "outputs": [
    {
     "name": "stdout",
     "output_type": "stream",
     "text": [
      "Enter your height in cm :160\n",
      "Enter your weight in cm: 58\n",
      "Your Body Mass Index is : 22.656249999999996\n"
     ]
    }
   ],
   "source": [
    "height = float(input(\"Enter your height in cm :\"))\n",
    "weight = float(input(\"Enter your weight in cm: \"))\n",
    "\n",
    "BMI = weight/(height/100)**2\n",
    "print (\"Your Body Mass Index is :\", BMI)"
   ]
  },
  {
   "cell_type": "markdown",
   "metadata": {},
   "source": [
    "4.Write a Python Program to calculate the natural logarithm of any number?"
   ]
  },
  {
   "cell_type": "code",
   "execution_count": 12,
   "metadata": {},
   "outputs": [
    {
     "name": "stdout",
     "output_type": "stream",
     "text": [
      "Logarithm base 2 of 14 is : 3.807354922057604\n"
     ]
    }
   ],
   "source": [
    "import math\n",
    "  \n",
    "print (\"Logarithm base 2 of 14 is : \", end=\"\")\n",
    "print (math.log2(14))"
   ]
  },
  {
   "cell_type": "markdown",
   "metadata": {},
   "source": [
    "5. Write a Python Program for cube sum of first n natural numbers?"
   ]
  },
  {
   "cell_type": "code",
   "execution_count": 16,
   "metadata": {},
   "outputs": [
    {
     "name": "stdout",
     "output_type": "stream",
     "text": [
      "Enter a number:5\n",
      "225\n"
     ]
    }
   ],
   "source": [
    "n = int(input(\"Enter a number:\"))\n",
    "def sumofseries (n):\n",
    "    i = 0\n",
    "    if n%2 == 0: \n",
    "        i = (n/2)*(n+1)\n",
    "    else:\n",
    "        i = ((n + 1)/2)*n\n",
    "          \n",
    "    return (int)(i*i)\n",
    "print(sumofseries(n))"
   ]
  }
 ],
 "metadata": {
  "kernelspec": {
   "display_name": "Python 3",
   "language": "python",
   "name": "python3"
  },
  "language_info": {
   "codemirror_mode": {
    "name": "ipython",
    "version": 3
   },
   "file_extension": ".py",
   "mimetype": "text/x-python",
   "name": "python",
   "nbconvert_exporter": "python",
   "pygments_lexer": "ipython3",
   "version": "3.8.5"
  }
 },
 "nbformat": 4,
 "nbformat_minor": 4
}

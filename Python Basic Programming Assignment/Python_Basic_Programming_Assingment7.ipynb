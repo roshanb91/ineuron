{
 "cells": [
  {
   "cell_type": "markdown",
   "metadata": {},
   "source": [
    "1.\tWrite a Python Program to find sum of array?"
   ]
  },
  {
   "cell_type": "code",
   "execution_count": 5,
   "metadata": {},
   "outputs": [
    {
     "name": "stdout",
     "output_type": "stream",
     "text": [
      "Sum of all elements:  18\n"
     ]
    }
   ],
   "source": [
    "list = [2,4, 5,7] \n",
    "total = sum(list)\n",
    "print(\"Sum of all elements: \", total)"
   ]
  },
  {
   "cell_type": "markdown",
   "metadata": {},
   "source": [
    "2.\tWrite a Python Program to find largest element in an array?"
   ]
  },
  {
   "cell_type": "code",
   "execution_count": 12,
   "metadata": {},
   "outputs": [
    {
     "name": "stdout",
     "output_type": "stream",
     "text": [
      "Largest element is:  7\n"
     ]
    }
   ],
   "source": [
    "list = [2,4, 5,7]\n",
    "print(\"Largest element is: \", max(list))"
   ]
  },
  {
   "cell_type": "markdown",
   "metadata": {},
   "source": [
    "3.\tWrite a Python Program for array rotation?"
   ]
  },
  {
   "cell_type": "markdown",
   "metadata": {},
   "source": [
    "Ans : Not getting the logic, how to solve it. "
   ]
  },
  {
   "cell_type": "markdown",
   "metadata": {},
   "source": [
    "4.\tWrite a Python Program to Split the array and add the first part to the end?"
   ]
  },
  {
   "cell_type": "code",
   "execution_count": 9,
   "metadata": {},
   "outputs": [
    {
     "name": "stdout",
     "output_type": "stream",
     "text": [
      "6 5 45 23 2 23 45 \n"
     ]
    }
   ],
   "source": [
    "def splitandadd(A, length, rotation):\n",
    "    tmp = [ 0 for i in range(length * 2)]\n",
    "    for i in range(length):\n",
    "        tmp[i] = A[i]\n",
    "        tmp[i + length] = A[i]\n",
    " \n",
    "    for i in range(rotation,rotation + length, 1):\n",
    "        A[i - rotation] = tmp[i];\n",
    "      \n",
    "# Input code\n",
    "arr = [23,45,6,5,45,23,2]\n",
    "n = len(arr)\n",
    "position = 2\n",
    "splitandadd(arr, n, position);\n",
    "for i in range(n):\n",
    "    print(arr[i], end = \" \")\n",
    "print()"
   ]
  },
  {
   "cell_type": "markdown",
   "metadata": {},
   "source": [
    "5.\tWrite a Python Program to check if given array is Monotonic?"
   ]
  },
  {
   "cell_type": "code",
   "execution_count": 11,
   "metadata": {},
   "outputs": [
    {
     "name": "stdout",
     "output_type": "stream",
     "text": [
      "True\n"
     ]
    }
   ],
   "source": [
    "def monotic(A):\n",
    " \n",
    "    return (all(A[i] <= A[i + 1] for i in range(len(A) - 1)) or\n",
    "            all(A[i] >= A[i + 1] for i in range(len(A) - 1)))\n",
    " \n",
    "A = [6, 5, 4, 4]\n",
    " \n",
    "print(monotic(A))"
   ]
  }
 ],
 "metadata": {
  "kernelspec": {
   "display_name": "Python 3",
   "language": "python",
   "name": "python3"
  },
  "language_info": {
   "codemirror_mode": {
    "name": "ipython",
    "version": 3
   },
   "file_extension": ".py",
   "mimetype": "text/x-python",
   "name": "python",
   "nbconvert_exporter": "python",
   "pygments_lexer": "ipython3",
   "version": "3.8.5"
  }
 },
 "nbformat": 4,
 "nbformat_minor": 4
}
